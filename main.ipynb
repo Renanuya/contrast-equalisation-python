{
 "cells": [
  {
   "cell_type": "code",
   "execution_count": null,
   "id": "8f1a59ad",
   "metadata": {},
   "outputs": [],
   "source": [
    "import pandas as pd\n",
    "from rich.console import Console\n",
    "from rich.table import Table"
   ]
  },
  {
   "cell_type": "code",
   "execution_count": null,
   "id": "4c606a06",
   "metadata": {},
   "outputs": [],
   "source": [
    "file_path = \"data/example_data.xlsx\"\n",
    "df = pd.read_excel(file_path, header=None)  #"
   ]
  },
  {
   "cell_type": "code",
   "execution_count": null,
   "id": "cdccafa0",
   "metadata": {},
   "outputs": [],
   "source": [
    "data = df.values"
   ]
  },
  {
   "cell_type": "code",
   "execution_count": null,
   "id": "80f965d3",
   "metadata": {},
   "outputs": [],
   "source": [
    "histogram = [0] * 256\n",
    "for row in data:\n",
    "    for pixel in row:\n",
    "        histogram[pixel] += 1"
   ]
  },
  {
   "cell_type": "code",
   "execution_count": null,
   "id": "fc3281c4",
   "metadata": {},
   "outputs": [],
   "source": [
    "cdf = [0] * 256\n",
    "cdf_value = 0\n",
    "for i in range(256):\n",
    "    cdf_value += histogram[i]\n",
    "    cdf[i] = cdf_value"
   ]
  },
  {
   "cell_type": "code",
   "execution_count": null,
   "id": "fae4ba64",
   "metadata": {},
   "outputs": [],
   "source": [
    "total_pixels = len(data) * len(data[0])\n",
    "cdf_min = min(filter(lambda x: x > 0, cdf))"
   ]
  },
  {
   "cell_type": "code",
   "execution_count": null,
   "id": "03e3ab3e",
   "metadata": {},
   "outputs": [],
   "source": [
    "L = 256\n",
    "equalized = [0] * 256\n",
    "for i in range(256):\n",
    "    equalized[i] = round(((cdf[i] - cdf_min) / (total_pixels - cdf_min)) * (L - 1))"
   ]
  },
  {
   "cell_type": "code",
   "execution_count": null,
   "id": "d64ee823",
   "metadata": {},
   "outputs": [],
   "source": [
    "equalized_image = []\n",
    "for row in data:\n",
    "    new_row = []\n",
    "    for pixel in row:\n",
    "        new_row.append(equalized[pixel])\n",
    "    equalized_image.append(new_row)"
   ]
  },
  {
   "cell_type": "code",
   "execution_count": null,
   "id": "6da5a30b",
   "metadata": {},
   "outputs": [],
   "source": [
    "console = Console()"
   ]
  },
  {
   "cell_type": "code",
   "execution_count": null,
   "id": "bbc8667c",
   "metadata": {},
   "outputs": [],
   "source": [
    "table1 = Table(show_header=True, header_style=\"bold cyan\")\n",
    "table1.add_column(\"Value\", style=\"dim\", width=12)\n",
    "table1.add_column(\"Count\", style=\"green\")"
   ]
  },
  {
   "cell_type": "code",
   "execution_count": null,
   "id": "57b7cc1a",
   "metadata": {},
   "outputs": [],
   "source": [
    "for i in range(256):\n",
    "    if histogram[i] > 0:\n",
    "        table1.add_row(str(i), str(histogram[i]))"
   ]
  },
  {
   "cell_type": "code",
   "execution_count": null,
   "id": "ba486864",
   "metadata": {},
   "outputs": [],
   "source": [
    "console.print(\"\\n[bold cyan]Value & Count Table:[/bold cyan]\")\n",
    "console.print(table1)"
   ]
  },
  {
   "cell_type": "code",
   "execution_count": null,
   "id": "19557779",
   "metadata": {},
   "outputs": [],
   "source": [
    "table2 = Table(show_header=True, header_style=\"bold magenta\")\n",
    "table2.add_column(\"Pixel Intensity\", style=\"dim\", width=16)\n",
    "table2.add_column(\"CDF(v)\", style=\"blue\")\n",
    "table2.add_column(\"Equalized v\", style=\"red\")"
   ]
  },
  {
   "cell_type": "code",
   "execution_count": null,
   "id": "b5b47cf3",
   "metadata": {},
   "outputs": [],
   "source": [
    "for i in range(256):\n",
    "    if histogram[i] > 0:\n",
    "        table2.add_row(str(i), str(cdf[i]), str(equalized[i]))"
   ]
  },
  {
   "cell_type": "code",
   "execution_count": null,
   "id": "06c2a294",
   "metadata": {},
   "outputs": [],
   "source": [
    "console.print(\"\\n[bold magenta]Pixel Intensity, CDF(v), Equalized v Table:[/bold magenta]\")\n",
    "console.print(table2)"
   ]
  }
 ],
 "metadata": {
  "jupytext": {
   "cell_metadata_filter": "-all",
   "main_language": "python",
   "notebook_metadata_filter": "-all"
  }
 },
 "nbformat": 4,
 "nbformat_minor": 5
}
